{
 "cells": [
  {
   "cell_type": "code",
   "execution_count": null,
   "id": "7ed9d557-48a9-4771-befd-f702520d5746",
   "metadata": {
    "tags": []
   },
   "outputs": [],
   "source": [
    "#If you're not sure whether you have the necessary package for the implementation\n",
    "#run this only one time.\n",
    "!pip install numpy==1.24.3\n",
    "!pip install imageio==2.31.1\n",
    "!pip install \"napari[all]\"\n",
    "!pip install scipy==1.11.2\n",
    "!pip install Pillow==9.4.0\n",
    "!pip intall tqdm==4.65.0"
   ]
  },
  {
   "cell_type": "code",
   "execution_count": 1,
   "id": "f661170d-23f7-44a4-aaf5-a6e41391a4fb",
   "metadata": {},
   "outputs": [],
   "source": [
    "import numpy as np\n",
    "import imageio\n",
    "import tMSSR as tm\n",
    "import TPM\n",
    "import napari"
   ]
  },
  {
   "cell_type": "code",
   "execution_count": 2,
   "id": "19ff0fc3-bdd8-4495-a5e9-8259e5a3d3cb",
   "metadata": {
    "tags": []
   },
   "outputs": [],
   "source": [
    "img_path = \"raw7_100_DAMIAN_PSFCHECK_561_DONUTS_33MS_5POWERL.tif\""
   ]
  },
  {
   "cell_type": "code",
   "execution_count": 3,
   "id": "edca1818-35d2-4504-8ab2-79a3c112de82",
   "metadata": {
    "tags": []
   },
   "outputs": [],
   "source": [
    "amp = 5\n",
    "psf = 3\n",
    "order = 1\n",
    "mesh = 1\n",
    "interp =\"bicubic\"\n",
    "tipe = \"laplacian\"\n",
    "nIter = 1 \n",
    "zstack=100\n",
    "method='Frangi'"
   ]
  },
  {
   "cell_type": "code",
   "execution_count": 4,
   "id": "8ed8f948-3168-4722-bd5a-498d4342b9b6",
   "metadata": {
    "tags": []
   },
   "outputs": [],
   "source": [
    "img_stack = imageio.v2.imread(img_path)"
   ]
  },
  {
   "cell_type": "code",
   "execution_count": 5,
   "id": "f061a7d0-3b7d-4e89-963b-39e01571258d",
   "metadata": {
    "tags": []
   },
   "outputs": [
    {
     "name": "stdout",
     "output_type": "stream",
     "text": [
      "Starting Process\n"
     ]
    },
    {
     "name": "stderr",
     "output_type": "stream",
     "text": [
      "100%|████████████████████████████████████████| 100/100 [00:00<00:00, 253.24it/s]\n"
     ]
    }
   ],
   "source": [
    "imgResult = tm.tMSSR(imgName=img_stack, dimz=zstack, amp=amp, psf=psf, order=order, mesh=mesh, interp=interp, tipe=tipe, nIter=nIter,method=method)"
   ]
  },
  {
   "cell_type": "code",
   "execution_count": 6,
   "id": "620108c0-cf6c-40a7-ab89-dcf1a7c048a9",
   "metadata": {
    "tags": []
   },
   "outputs": [],
   "source": [
    "ITPMD = TPM.TPM(imgResult)\n",
    "IMEAND = np.mean(imgResult, axis=0)\n",
    "IVARD = np.var(imgResult, axis=0)"
   ]
  },
  {
   "cell_type": "code",
   "execution_count": 7,
   "id": "29bd7db8-cf2c-4d8a-badd-a69e1a5815a4",
   "metadata": {
    "tags": []
   },
   "outputs": [
    {
     "data": {
      "text/plain": [
       "<Image layer 'Mean Image' at 0x7fd82c10eeb0>"
      ]
     },
     "execution_count": 7,
     "metadata": {},
     "output_type": "execute_result"
    }
   ],
   "source": [
    "viewer = napari.Viewer()\n",
    "\n",
    "viewer.add_image(img_stack, name='Original Image')\n",
    "viewer.add_image(imgResult, name='Processed Image')\n",
    "viewer.add_image(ITPMD, name='ITPMD Image')\n",
    "viewer.add_image(IVARD, name='Variance Image')\n",
    "viewer.add_image(IMEAND, name='Mean Image')"
   ]
  }
 ],
 "metadata": {
  "kernelspec": {
   "display_name": "Python 3 (ipykernel)",
   "language": "python",
   "name": "python3"
  },
  "language_info": {
   "codemirror_mode": {
    "name": "ipython",
    "version": 3
   },
   "file_extension": ".py",
   "mimetype": "text/x-python",
   "name": "python",
   "nbconvert_exporter": "python",
   "pygments_lexer": "ipython3",
   "version": "3.9.17"
  }
 },
 "nbformat": 4,
 "nbformat_minor": 5
}
